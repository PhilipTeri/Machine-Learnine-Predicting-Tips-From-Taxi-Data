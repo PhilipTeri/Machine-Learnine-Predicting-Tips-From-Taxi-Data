{
 "cells": [
  {
   "cell_type": "markdown",
   "id": "e556b067",
   "metadata": {},
   "source": [
    "# Pre-processing, Training Data Development & Modeling"
   ]
  },
  {
   "cell_type": "code",
   "execution_count": 85,
   "id": "91b97307",
   "metadata": {},
   "outputs": [],
   "source": [
    "import pandas as pd\n",
    "import numpy as np\n",
    "from datetime import *\n",
    "from datetime import timedelta\n",
    "\n",
    "import matplotlib.pyplot as plt\n",
    "import seaborn as sns"
   ]
  },
  {
   "cell_type": "code",
   "execution_count": 86,
   "id": "cf32471a",
   "metadata": {},
   "outputs": [],
   "source": [
    "df = pd.read_csv('data/EDA_output.csv')"
   ]
  },
  {
   "cell_type": "code",
   "execution_count": 87,
   "id": "40d99b1b",
   "metadata": {},
   "outputs": [
    {
     "data": {
      "text/html": [
       "<div>\n",
       "<style scoped>\n",
       "    .dataframe tbody tr th:only-of-type {\n",
       "        vertical-align: middle;\n",
       "    }\n",
       "\n",
       "    .dataframe tbody tr th {\n",
       "        vertical-align: top;\n",
       "    }\n",
       "\n",
       "    .dataframe thead th {\n",
       "        text-align: right;\n",
       "    }\n",
       "</style>\n",
       "<table border=\"1\" class=\"dataframe\">\n",
       "  <thead>\n",
       "    <tr style=\"text-align: right;\">\n",
       "      <th></th>\n",
       "      <th>Unnamed: 0</th>\n",
       "      <th>VendorID</th>\n",
       "      <th>tpep_pickup_datetime</th>\n",
       "      <th>tpep_dropoff_datetime</th>\n",
       "      <th>passenger_count</th>\n",
       "      <th>trip_distance</th>\n",
       "      <th>RatecodeID</th>\n",
       "      <th>PULocationID</th>\n",
       "      <th>DOLocationID</th>\n",
       "      <th>payment_type</th>\n",
       "      <th>fare_amount</th>\n",
       "      <th>extra</th>\n",
       "      <th>tip_amount</th>\n",
       "      <th>tolls_amount</th>\n",
       "      <th>total_amount</th>\n",
       "    </tr>\n",
       "  </thead>\n",
       "  <tbody>\n",
       "    <tr>\n",
       "      <th>0</th>\n",
       "      <td>0</td>\n",
       "      <td>2</td>\n",
       "      <td>2017-03-11 14:05:48</td>\n",
       "      <td>2017-03-11 14:12:34</td>\n",
       "      <td>1</td>\n",
       "      <td>1.26</td>\n",
       "      <td>1</td>\n",
       "      <td>262</td>\n",
       "      <td>237</td>\n",
       "      <td>2</td>\n",
       "      <td>6.5</td>\n",
       "      <td>0.0</td>\n",
       "      <td>0.00</td>\n",
       "      <td>0.0</td>\n",
       "      <td>7.30</td>\n",
       "    </tr>\n",
       "    <tr>\n",
       "      <th>1</th>\n",
       "      <td>1</td>\n",
       "      <td>1</td>\n",
       "      <td>2017-06-08 12:59:56</td>\n",
       "      <td>2017-06-08 13:03:49</td>\n",
       "      <td>1</td>\n",
       "      <td>0.70</td>\n",
       "      <td>1</td>\n",
       "      <td>262</td>\n",
       "      <td>140</td>\n",
       "      <td>1</td>\n",
       "      <td>5.0</td>\n",
       "      <td>0.0</td>\n",
       "      <td>1.15</td>\n",
       "      <td>0.0</td>\n",
       "      <td>6.95</td>\n",
       "    </tr>\n",
       "    <tr>\n",
       "      <th>2</th>\n",
       "      <td>2</td>\n",
       "      <td>2</td>\n",
       "      <td>2017-06-08 09:08:45</td>\n",
       "      <td>2017-06-08 09:12:59</td>\n",
       "      <td>6</td>\n",
       "      <td>0.81</td>\n",
       "      <td>1</td>\n",
       "      <td>237</td>\n",
       "      <td>141</td>\n",
       "      <td>2</td>\n",
       "      <td>5.0</td>\n",
       "      <td>0.0</td>\n",
       "      <td>0.00</td>\n",
       "      <td>0.0</td>\n",
       "      <td>5.80</td>\n",
       "    </tr>\n",
       "    <tr>\n",
       "      <th>3</th>\n",
       "      <td>3</td>\n",
       "      <td>1</td>\n",
       "      <td>2017-03-18 13:12:23</td>\n",
       "      <td>2017-03-18 13:17:35</td>\n",
       "      <td>1</td>\n",
       "      <td>0.70</td>\n",
       "      <td>1</td>\n",
       "      <td>113</td>\n",
       "      <td>234</td>\n",
       "      <td>1</td>\n",
       "      <td>5.5</td>\n",
       "      <td>0.0</td>\n",
       "      <td>10.00</td>\n",
       "      <td>0.0</td>\n",
       "      <td>16.30</td>\n",
       "    </tr>\n",
       "    <tr>\n",
       "      <th>4</th>\n",
       "      <td>4</td>\n",
       "      <td>2</td>\n",
       "      <td>2017-03-05 01:12:35</td>\n",
       "      <td>2017-03-05 01:26:06</td>\n",
       "      <td>3</td>\n",
       "      <td>3.18</td>\n",
       "      <td>1</td>\n",
       "      <td>114</td>\n",
       "      <td>50</td>\n",
       "      <td>1</td>\n",
       "      <td>12.5</td>\n",
       "      <td>0.5</td>\n",
       "      <td>2.76</td>\n",
       "      <td>0.0</td>\n",
       "      <td>16.56</td>\n",
       "    </tr>\n",
       "  </tbody>\n",
       "</table>\n",
       "</div>"
      ],
      "text/plain": [
       "   Unnamed: 0  VendorID tpep_pickup_datetime tpep_dropoff_datetime  \\\n",
       "0           0         2  2017-03-11 14:05:48   2017-03-11 14:12:34   \n",
       "1           1         1  2017-06-08 12:59:56   2017-06-08 13:03:49   \n",
       "2           2         2  2017-06-08 09:08:45   2017-06-08 09:12:59   \n",
       "3           3         1  2017-03-18 13:12:23   2017-03-18 13:17:35   \n",
       "4           4         2  2017-03-05 01:12:35   2017-03-05 01:26:06   \n",
       "\n",
       "   passenger_count  trip_distance  RatecodeID  PULocationID  DOLocationID  \\\n",
       "0                1           1.26           1           262           237   \n",
       "1                1           0.70           1           262           140   \n",
       "2                6           0.81           1           237           141   \n",
       "3                1           0.70           1           113           234   \n",
       "4                3           3.18           1           114            50   \n",
       "\n",
       "   payment_type  fare_amount  extra  tip_amount  tolls_amount  total_amount  \n",
       "0             2          6.5    0.0        0.00           0.0          7.30  \n",
       "1             1          5.0    0.0        1.15           0.0          6.95  \n",
       "2             2          5.0    0.0        0.00           0.0          5.80  \n",
       "3             1          5.5    0.0       10.00           0.0         16.30  \n",
       "4             1         12.5    0.5        2.76           0.0         16.56  "
      ]
     },
     "execution_count": 87,
     "metadata": {},
     "output_type": "execute_result"
    }
   ],
   "source": [
    "df.head()"
   ]
  },
  {
   "cell_type": "code",
   "execution_count": 88,
   "id": "0035d9bd",
   "metadata": {},
   "outputs": [
    {
     "data": {
      "text/html": [
       "<div>\n",
       "<style scoped>\n",
       "    .dataframe tbody tr th:only-of-type {\n",
       "        vertical-align: middle;\n",
       "    }\n",
       "\n",
       "    .dataframe tbody tr th {\n",
       "        vertical-align: top;\n",
       "    }\n",
       "\n",
       "    .dataframe thead th {\n",
       "        text-align: right;\n",
       "    }\n",
       "</style>\n",
       "<table border=\"1\" class=\"dataframe\">\n",
       "  <thead>\n",
       "    <tr style=\"text-align: right;\">\n",
       "      <th></th>\n",
       "      <th>Unnamed: 0</th>\n",
       "      <th>VendorID</th>\n",
       "      <th>passenger_count</th>\n",
       "      <th>trip_distance</th>\n",
       "      <th>RatecodeID</th>\n",
       "      <th>PULocationID</th>\n",
       "      <th>DOLocationID</th>\n",
       "      <th>payment_type</th>\n",
       "      <th>fare_amount</th>\n",
       "      <th>extra</th>\n",
       "      <th>tip_amount</th>\n",
       "      <th>tolls_amount</th>\n",
       "      <th>total_amount</th>\n",
       "    </tr>\n",
       "  </thead>\n",
       "  <tbody>\n",
       "    <tr>\n",
       "      <th>count</th>\n",
       "      <td>99953.000000</td>\n",
       "      <td>99953.000000</td>\n",
       "      <td>99953.000000</td>\n",
       "      <td>99953.000000</td>\n",
       "      <td>99953.000000</td>\n",
       "      <td>99953.000000</td>\n",
       "      <td>99953.000000</td>\n",
       "      <td>99953.000000</td>\n",
       "      <td>99953.000000</td>\n",
       "      <td>99953.000000</td>\n",
       "      <td>99953.000000</td>\n",
       "      <td>99953.000000</td>\n",
       "      <td>99953.000000</td>\n",
       "    </tr>\n",
       "    <tr>\n",
       "      <th>mean</th>\n",
       "      <td>50002.594199</td>\n",
       "      <td>1.548558</td>\n",
       "      <td>1.624003</td>\n",
       "      <td>2.944481</td>\n",
       "      <td>1.032795</td>\n",
       "      <td>163.106780</td>\n",
       "      <td>160.887627</td>\n",
       "      <td>1.325423</td>\n",
       "      <td>13.011072</td>\n",
       "      <td>0.336872</td>\n",
       "      <td>1.881437</td>\n",
       "      <td>0.324772</td>\n",
       "      <td>16.356383</td>\n",
       "    </tr>\n",
       "    <tr>\n",
       "      <th>std</th>\n",
       "      <td>28867.280487</td>\n",
       "      <td>0.497639</td>\n",
       "      <td>1.264334</td>\n",
       "      <td>3.733554</td>\n",
       "      <td>0.234246</td>\n",
       "      <td>66.964348</td>\n",
       "      <td>70.387245</td>\n",
       "      <td>0.484946</td>\n",
       "      <td>11.058527</td>\n",
       "      <td>0.457259</td>\n",
       "      <td>2.712111</td>\n",
       "      <td>1.482291</td>\n",
       "      <td>13.865592</td>\n",
       "    </tr>\n",
       "    <tr>\n",
       "      <th>min</th>\n",
       "      <td>0.000000</td>\n",
       "      <td>1.000000</td>\n",
       "      <td>0.000000</td>\n",
       "      <td>0.010000</td>\n",
       "      <td>1.000000</td>\n",
       "      <td>1.000000</td>\n",
       "      <td>1.000000</td>\n",
       "      <td>1.000000</td>\n",
       "      <td>0.010000</td>\n",
       "      <td>0.000000</td>\n",
       "      <td>0.000000</td>\n",
       "      <td>0.000000</td>\n",
       "      <td>0.310000</td>\n",
       "    </tr>\n",
       "    <tr>\n",
       "      <th>25%</th>\n",
       "      <td>25003.000000</td>\n",
       "      <td>1.000000</td>\n",
       "      <td>1.000000</td>\n",
       "      <td>1.000000</td>\n",
       "      <td>1.000000</td>\n",
       "      <td>114.000000</td>\n",
       "      <td>107.000000</td>\n",
       "      <td>1.000000</td>\n",
       "      <td>6.500000</td>\n",
       "      <td>0.000000</td>\n",
       "      <td>0.000000</td>\n",
       "      <td>0.000000</td>\n",
       "      <td>8.750000</td>\n",
       "    </tr>\n",
       "    <tr>\n",
       "      <th>50%</th>\n",
       "      <td>50005.000000</td>\n",
       "      <td>2.000000</td>\n",
       "      <td>1.000000</td>\n",
       "      <td>1.640000</td>\n",
       "      <td>1.000000</td>\n",
       "      <td>162.000000</td>\n",
       "      <td>162.000000</td>\n",
       "      <td>1.000000</td>\n",
       "      <td>9.500000</td>\n",
       "      <td>0.000000</td>\n",
       "      <td>1.440000</td>\n",
       "      <td>0.000000</td>\n",
       "      <td>11.800000</td>\n",
       "    </tr>\n",
       "    <tr>\n",
       "      <th>75%</th>\n",
       "      <td>75004.000000</td>\n",
       "      <td>2.000000</td>\n",
       "      <td>2.000000</td>\n",
       "      <td>3.050000</td>\n",
       "      <td>1.000000</td>\n",
       "      <td>233.000000</td>\n",
       "      <td>233.000000</td>\n",
       "      <td>2.000000</td>\n",
       "      <td>14.500000</td>\n",
       "      <td>0.500000</td>\n",
       "      <td>2.460000</td>\n",
       "      <td>0.000000</td>\n",
       "      <td>17.800000</td>\n",
       "    </tr>\n",
       "    <tr>\n",
       "      <th>max</th>\n",
       "      <td>99999.000000</td>\n",
       "      <td>2.000000</td>\n",
       "      <td>6.000000</td>\n",
       "      <td>66.400000</td>\n",
       "      <td>5.000000</td>\n",
       "      <td>265.000000</td>\n",
       "      <td>265.000000</td>\n",
       "      <td>4.000000</td>\n",
       "      <td>345.000000</td>\n",
       "      <td>4.500000</td>\n",
       "      <td>312.000000</td>\n",
       "      <td>38.000000</td>\n",
       "      <td>426.960000</td>\n",
       "    </tr>\n",
       "  </tbody>\n",
       "</table>\n",
       "</div>"
      ],
      "text/plain": [
       "         Unnamed: 0      VendorID  passenger_count  trip_distance  \\\n",
       "count  99953.000000  99953.000000     99953.000000   99953.000000   \n",
       "mean   50002.594199      1.548558         1.624003       2.944481   \n",
       "std    28867.280487      0.497639         1.264334       3.733554   \n",
       "min        0.000000      1.000000         0.000000       0.010000   \n",
       "25%    25003.000000      1.000000         1.000000       1.000000   \n",
       "50%    50005.000000      2.000000         1.000000       1.640000   \n",
       "75%    75004.000000      2.000000         2.000000       3.050000   \n",
       "max    99999.000000      2.000000         6.000000      66.400000   \n",
       "\n",
       "         RatecodeID  PULocationID  DOLocationID  payment_type   fare_amount  \\\n",
       "count  99953.000000  99953.000000  99953.000000  99953.000000  99953.000000   \n",
       "mean       1.032795    163.106780    160.887627      1.325423     13.011072   \n",
       "std        0.234246     66.964348     70.387245      0.484946     11.058527   \n",
       "min        1.000000      1.000000      1.000000      1.000000      0.010000   \n",
       "25%        1.000000    114.000000    107.000000      1.000000      6.500000   \n",
       "50%        1.000000    162.000000    162.000000      1.000000      9.500000   \n",
       "75%        1.000000    233.000000    233.000000      2.000000     14.500000   \n",
       "max        5.000000    265.000000    265.000000      4.000000    345.000000   \n",
       "\n",
       "              extra    tip_amount  tolls_amount  total_amount  \n",
       "count  99953.000000  99953.000000  99953.000000  99953.000000  \n",
       "mean       0.336872      1.881437      0.324772     16.356383  \n",
       "std        0.457259      2.712111      1.482291     13.865592  \n",
       "min        0.000000      0.000000      0.000000      0.310000  \n",
       "25%        0.000000      0.000000      0.000000      8.750000  \n",
       "50%        0.000000      1.440000      0.000000     11.800000  \n",
       "75%        0.500000      2.460000      0.000000     17.800000  \n",
       "max        4.500000    312.000000     38.000000    426.960000  "
      ]
     },
     "execution_count": 88,
     "metadata": {},
     "output_type": "execute_result"
    }
   ],
   "source": [
    "df.describe()"
   ]
  },
  {
   "cell_type": "code",
   "execution_count": 89,
   "id": "5f75df5c",
   "metadata": {},
   "outputs": [],
   "source": [
    "# drop index column that was added when creating the csv \n",
    "# drop payment type since we are only considering credit card payments\n",
    "\n",
    "df = df.drop('Unnamed: 0', axis = 1)\n",
    "df = df.drop('payment_type', axis = 1)"
   ]
  },
  {
   "cell_type": "code",
   "execution_count": 90,
   "id": "212c3ea0",
   "metadata": {},
   "outputs": [
    {
     "name": "stdout",
     "output_type": "stream",
     "text": [
      "<class 'pandas.core.frame.DataFrame'>\n",
      "RangeIndex: 99953 entries, 0 to 99952\n",
      "Data columns (total 13 columns):\n",
      " #   Column                 Non-Null Count  Dtype         \n",
      "---  ------                 --------------  -----         \n",
      " 0   VendorID               99953 non-null  int64         \n",
      " 1   tpep_pickup_datetime   99953 non-null  datetime64[ns]\n",
      " 2   tpep_dropoff_datetime  99953 non-null  datetime64[ns]\n",
      " 3   passenger_count        99953 non-null  int64         \n",
      " 4   trip_distance          99953 non-null  float64       \n",
      " 5   RatecodeID             99953 non-null  int64         \n",
      " 6   PULocationID           99953 non-null  int64         \n",
      " 7   DOLocationID           99953 non-null  int64         \n",
      " 8   fare_amount            99953 non-null  float64       \n",
      " 9   extra                  99953 non-null  float64       \n",
      " 10  tip_amount             99953 non-null  int32         \n",
      " 11  tolls_amount           99953 non-null  float64       \n",
      " 12  total_amount           99953 non-null  float64       \n",
      "dtypes: datetime64[ns](2), float64(5), int32(1), int64(5)\n",
      "memory usage: 9.5 MB\n"
     ]
    }
   ],
   "source": [
    "# convert pickup and dropoff columns to datetime\n",
    "df['tpep_pickup_datetime'] = pd.to_datetime(df['tpep_pickup_datetime'], format='%Y-%m-%d %H:%M:%S.%f')\n",
    "df['tpep_dropoff_datetime'] = pd.to_datetime(df['tpep_dropoff_datetime'], format='%Y-%m-%d %H:%M:%S.%f')\n",
    "\n",
    "df.tip_amount = df.tip_amount.astype(int)\n",
    "\n",
    "df.info()"
   ]
  },
  {
   "cell_type": "code",
   "execution_count": 91,
   "id": "db54055a",
   "metadata": {},
   "outputs": [
    {
     "name": "stdout",
     "output_type": "stream",
     "text": [
      "<class 'pandas.core.frame.DataFrame'>\n",
      "RangeIndex: 99953 entries, 0 to 99952\n",
      "Data columns (total 11 columns):\n",
      " #   Column           Non-Null Count  Dtype  \n",
      "---  ------           --------------  -----  \n",
      " 0   VendorID         99953 non-null  int64  \n",
      " 1   passenger_count  99953 non-null  int64  \n",
      " 2   trip_distance    99953 non-null  float64\n",
      " 3   RatecodeID       99953 non-null  int64  \n",
      " 4   PULocationID     99953 non-null  int64  \n",
      " 5   DOLocationID     99953 non-null  int64  \n",
      " 6   fare_amount      99953 non-null  float64\n",
      " 7   extra            99953 non-null  float64\n",
      " 8   tip_amount       99953 non-null  int32  \n",
      " 9   tolls_amount     99953 non-null  float64\n",
      " 10  total_amount     99953 non-null  float64\n",
      "dtypes: float64(5), int32(1), int64(5)\n",
      "memory usage: 8.0 MB\n"
     ]
    }
   ],
   "source": [
    "#only keep columns that are integers or floats\n",
    "\n",
    "dfo = df.select_dtypes(include=['int32','int64', 'float32','float64']) # select object type columns\n",
    "\n",
    "dfo.info()"
   ]
  },
  {
   "cell_type": "code",
   "execution_count": 92,
   "id": "9ef6a57a",
   "metadata": {},
   "outputs": [
    {
     "data": {
      "text/html": [
       "<div>\n",
       "<style scoped>\n",
       "    .dataframe tbody tr th:only-of-type {\n",
       "        vertical-align: middle;\n",
       "    }\n",
       "\n",
       "    .dataframe tbody tr th {\n",
       "        vertical-align: top;\n",
       "    }\n",
       "\n",
       "    .dataframe thead th {\n",
       "        text-align: right;\n",
       "    }\n",
       "</style>\n",
       "<table border=\"1\" class=\"dataframe\">\n",
       "  <thead>\n",
       "    <tr style=\"text-align: right;\">\n",
       "      <th></th>\n",
       "      <th>VendorID</th>\n",
       "      <th>passenger_count</th>\n",
       "      <th>trip_distance</th>\n",
       "      <th>RatecodeID</th>\n",
       "      <th>PULocationID</th>\n",
       "      <th>DOLocationID</th>\n",
       "      <th>fare_amount</th>\n",
       "      <th>extra</th>\n",
       "      <th>tip_amount</th>\n",
       "      <th>tolls_amount</th>\n",
       "      <th>total_amount</th>\n",
       "    </tr>\n",
       "  </thead>\n",
       "  <tbody>\n",
       "    <tr>\n",
       "      <th>0</th>\n",
       "      <td>2</td>\n",
       "      <td>1</td>\n",
       "      <td>1.26</td>\n",
       "      <td>1</td>\n",
       "      <td>262</td>\n",
       "      <td>237</td>\n",
       "      <td>6.5</td>\n",
       "      <td>0.0</td>\n",
       "      <td>0</td>\n",
       "      <td>0.0</td>\n",
       "      <td>7.30</td>\n",
       "    </tr>\n",
       "    <tr>\n",
       "      <th>1</th>\n",
       "      <td>1</td>\n",
       "      <td>1</td>\n",
       "      <td>0.70</td>\n",
       "      <td>1</td>\n",
       "      <td>262</td>\n",
       "      <td>140</td>\n",
       "      <td>5.0</td>\n",
       "      <td>0.0</td>\n",
       "      <td>1</td>\n",
       "      <td>0.0</td>\n",
       "      <td>6.95</td>\n",
       "    </tr>\n",
       "    <tr>\n",
       "      <th>2</th>\n",
       "      <td>2</td>\n",
       "      <td>6</td>\n",
       "      <td>0.81</td>\n",
       "      <td>1</td>\n",
       "      <td>237</td>\n",
       "      <td>141</td>\n",
       "      <td>5.0</td>\n",
       "      <td>0.0</td>\n",
       "      <td>0</td>\n",
       "      <td>0.0</td>\n",
       "      <td>5.80</td>\n",
       "    </tr>\n",
       "    <tr>\n",
       "      <th>3</th>\n",
       "      <td>1</td>\n",
       "      <td>1</td>\n",
       "      <td>0.70</td>\n",
       "      <td>1</td>\n",
       "      <td>113</td>\n",
       "      <td>234</td>\n",
       "      <td>5.5</td>\n",
       "      <td>0.0</td>\n",
       "      <td>10</td>\n",
       "      <td>0.0</td>\n",
       "      <td>16.30</td>\n",
       "    </tr>\n",
       "    <tr>\n",
       "      <th>4</th>\n",
       "      <td>2</td>\n",
       "      <td>3</td>\n",
       "      <td>3.18</td>\n",
       "      <td>1</td>\n",
       "      <td>114</td>\n",
       "      <td>50</td>\n",
       "      <td>12.5</td>\n",
       "      <td>0.5</td>\n",
       "      <td>2</td>\n",
       "      <td>0.0</td>\n",
       "      <td>16.56</td>\n",
       "    </tr>\n",
       "  </tbody>\n",
       "</table>\n",
       "</div>"
      ],
      "text/plain": [
       "   VendorID  passenger_count  trip_distance  RatecodeID  PULocationID  \\\n",
       "0         2                1           1.26           1           262   \n",
       "1         1                1           0.70           1           262   \n",
       "2         2                6           0.81           1           237   \n",
       "3         1                1           0.70           1           113   \n",
       "4         2                3           3.18           1           114   \n",
       "\n",
       "   DOLocationID  fare_amount  extra  tip_amount  tolls_amount  total_amount  \n",
       "0           237          6.5    0.0           0           0.0          7.30  \n",
       "1           140          5.0    0.0           1           0.0          6.95  \n",
       "2           141          5.0    0.0           0           0.0          5.80  \n",
       "3           234          5.5    0.0          10           0.0         16.30  \n",
       "4            50         12.5    0.5           2           0.0         16.56  "
      ]
     },
     "execution_count": 92,
     "metadata": {},
     "output_type": "execute_result"
    }
   ],
   "source": [
    "dummies = pd.get_dummies(dfo)\n",
    "\n",
    "dummies.head()"
   ]
  },
  {
   "cell_type": "markdown",
   "id": "05e85347",
   "metadata": {},
   "source": [
    "# Pre Processing"
   ]
  },
  {
   "cell_type": "code",
   "execution_count": 93,
   "id": "396cd022",
   "metadata": {},
   "outputs": [],
   "source": [
    "from sklearn.model_selection import train_test_split\n",
    "from sklearn.preprocessing import StandardScaler\n",
    "\n",
    "from sklearn.model_selection import GridSearchCV\n",
    "\n",
    "from sklearn.pipeline import Pipeline\n",
    "from sklearn.pipeline import make_pipeline\n",
    "\n",
    "from sklearn.neighbors import KNeighborsClassifier\n",
    "from sklearn.ensemble import RandomForestClassifier\n",
    "from sklearn.linear_model import LinearRegression\n",
    "\n",
    "\n",
    "\n",
    "from sklearn import metrics"
   ]
  },
  {
   "cell_type": "code",
   "execution_count": 94,
   "id": "a96648cc",
   "metadata": {},
   "outputs": [],
   "source": [
    "#set X and y variable\n",
    "\n",
    "X = dummies.drop(\"tip_amount\", axis = 1)\n",
    "y = dummies['tip_amount']\n",
    "\n",
    "#convert y to integer KNN does not accept floats(continuous data) on the y axis\n",
    "#y = dummies['tip_amount'].astype(int)"
   ]
  },
  {
   "cell_type": "code",
   "execution_count": 49,
   "id": "0de30e1b",
   "metadata": {},
   "outputs": [
    {
     "name": "stderr",
     "output_type": "stream",
     "text": [
      "C:\\Users\\Phil\\anaconda3\\lib\\site-packages\\sklearn\\model_selection\\_split.py:666: UserWarning: The least populated class in y has only 1 members, which is less than n_splits=5.\n",
      "  warnings.warn((\"The least populated class in y has only %d\"\n"
     ]
    },
    {
     "name": "stdout",
     "output_type": "stream",
     "text": [
      "Best Score:0.7021600095230448\n",
      "Best Parameters: {'n_neighbors': 4}\n"
     ]
    }
   ],
   "source": [
    "# grid search for KNN\n",
    "\n",
    "param_grid = {'n_neighbors':np.arange(1,20)}\n",
    "knn = KNeighborsClassifier()\n",
    "knn_cv= GridSearchCV(knn,param_grid,cv=5)\n",
    "knn_cv.fit(X,y)\n",
    "\n",
    "print(\"Best Score:\" + str(knn_cv.best_score_))\n",
    "print(\"Best Parameters: \" + str(knn_cv.best_params_))"
   ]
  },
  {
   "cell_type": "code",
   "execution_count": 50,
   "id": "a9ee51e0",
   "metadata": {},
   "outputs": [
    {
     "name": "stderr",
     "output_type": "stream",
     "text": [
      "C:\\Users\\Phil\\anaconda3\\lib\\site-packages\\sklearn\\model_selection\\_split.py:666: UserWarning: The least populated class in y has only 1 members, which is less than n_splits=5.\n",
      "  warnings.warn((\"The least populated class in y has only %d\"\n"
     ]
    },
    {
     "name": "stdout",
     "output_type": "stream",
     "text": [
      "Best Score:0.926555517766887\n",
      "Best Parameters: {'n_estimators': 19}\n"
     ]
    }
   ],
   "source": [
    "# grid search for random forest\n",
    "\n",
    "param_grid = {'n_estimators':np.arange(1,20)}\n",
    "RF = RandomForestClassifier()\n",
    "RF_cv= GridSearchCV(RF,param_grid,cv=5)\n",
    "RF_cv.fit(X,y)\n",
    "\n",
    "\n",
    "print(\"Best Score:\" + str(RF_cv.best_score_))\n",
    "print(\"Best Parameters: \" + str(RF_cv.best_params_))"
   ]
  },
  {
   "cell_type": "code",
   "execution_count": 95,
   "id": "7c33bee4",
   "metadata": {},
   "outputs": [],
   "source": [
    "#split the data into training and testing subsets\n",
    "X_train, X_test, y_train, y_test = train_test_split(X, y, test_size=0.25)"
   ]
  },
  {
   "cell_type": "markdown",
   "id": "23f67573",
   "metadata": {},
   "source": [
    "# Modeling: KNN & Random Forest"
   ]
  },
  {
   "cell_type": "code",
   "execution_count": 96,
   "id": "29d8ade5",
   "metadata": {},
   "outputs": [],
   "source": [
    "#set the alogirthms with the best scoring parameters\n",
    "#pipeline with preprocessing transformers first & estimator last\n",
    "\n",
    "knn = KNeighborsClassifier(n_neighbors = 4)\n",
    "rf = RandomForestClassifier(n_estimators = 19)\n",
    "\n",
    "\n",
    "def run_model(clf):\n",
    "    \n",
    "    pipeline = make_pipeline(StandardScaler(), clf)\n",
    "    pipeline.fit(X_train,y_train)\n",
    "    y_pred = pipeline.predict(X_test)\n",
    "    print(f\"Score: {pipeline.score(X_test,y_test)}\")"
   ]
  },
  {
   "cell_type": "code",
   "execution_count": 97,
   "id": "b82b44db",
   "metadata": {},
   "outputs": [
    {
     "name": "stdout",
     "output_type": "stream",
     "text": [
      "Score: 0.6151906839009164\n"
     ]
    }
   ],
   "source": [
    "# the KNN alrgorith did not peform well\n",
    "run_model(knn)"
   ]
  },
  {
   "cell_type": "code",
   "execution_count": 98,
   "id": "4c2bbe43",
   "metadata": {},
   "outputs": [
    {
     "name": "stdout",
     "output_type": "stream",
     "text": [
      "Score: 0.9346512465484813\n"
     ]
    }
   ],
   "source": [
    "#the random forest algorithm performed very well\n",
    "run_model(rf)"
   ]
  },
  {
   "cell_type": "markdown",
   "id": "ce41fc4a",
   "metadata": {},
   "source": [
    "# Modeling: Linear Regression"
   ]
  },
  {
   "cell_type": "code",
   "execution_count": 99,
   "id": "443b013d",
   "metadata": {},
   "outputs": [],
   "source": [
    "# make X and y variables, reshape \n",
    "linear_X = dummies.total_amount.values.reshape(-1, 1)\n",
    "\n",
    "linear_y = dummies.tip_amount"
   ]
  },
  {
   "cell_type": "code",
   "execution_count": 100,
   "id": "d7f37df9",
   "metadata": {},
   "outputs": [],
   "source": [
    "# create train and test data sets for the linear regression\n",
    "Xl_train, Xl_test, yl_train, yl_test = train_test_split(linear_X, linear_y, test_size=0.25)"
   ]
  },
  {
   "cell_type": "code",
   "execution_count": 101,
   "id": "fac868d0",
   "metadata": {},
   "outputs": [],
   "source": [
    "model = LinearRegression().fit(Xl_train, yl_train) "
   ]
  },
  {
   "cell_type": "code",
   "execution_count": 102,
   "id": "09edd499",
   "metadata": {},
   "outputs": [
    {
     "name": "stdout",
     "output_type": "stream",
     "text": [
      "coefficient of determination: 0.44896589290159583\n"
     ]
    }
   ],
   "source": [
    "#although it appeared that there was a strong linear correlation between tip and total amount.\n",
    "# the score indicates that a prediction only based on total_amount would not be very accurate.\n",
    "\n",
    "r_sq = model.score(Xl_test, yl_test)\n",
    "print('coefficient of determination:', r_sq)\n"
   ]
  },
  {
   "cell_type": "markdown",
   "id": "01b8fc09",
   "metadata": {},
   "source": [
    "# Feature Importance"
   ]
  },
  {
   "cell_type": "code",
   "execution_count": 105,
   "id": "38676ac2",
   "metadata": {},
   "outputs": [
    {
     "name": "stdout",
     "output_type": "stream",
     "text": [
      "10\n"
     ]
    },
    {
     "data": {
      "image/png": "[encoded data removed]",
      "text/plain": [
       "<Figure size 720x720 with 1 Axes>"
      ]
     },
     "metadata": {
      "needs_background": "light"
     },
     "output_type": "display_data"
    }
   ],
   "source": [
    "#using the best scoring model (random forrest) determine the importance of each feature\n",
    "\n",
    "feature_importance = rf.feature_importances_\n",
    "\n",
    "# make importances relative to max importance\n",
    "feature_importance = 100.0 * (feature_importance / feature_importance.max())[:10]\n",
    "sorted_idx = np.argsort(feature_importance)[:10]\n",
    "\n",
    "pos = np.arange(sorted_idx.shape[0]) + .5\n",
    "print(pos.size)\n",
    "sorted_idx.size\n",
    "plt.figure(figsize=(10,10))\n",
    "plt.barh(pos, feature_importance[sorted_idx], align='center')\n",
    "plt.yticks(pos, X.columns[sorted_idx])\n",
    "plt.xlabel('Relative Importance')\n",
    "plt.title('Variable Importance')\n",
    "plt.show()"
   ]
  },
  {
   "cell_type": "code",
   "execution_count": null,
   "id": "06328919",
   "metadata": {},
   "outputs": [],
   "source": []
  }
 ],
 "metadata": {
  "kernelspec": {
   "display_name": "Python [conda env:root] *",
   "language": "python",
   "name": "conda-root-py"
  },
  "language_info": {
   "codemirror_mode": {
    "name": "ipython",
    "version": 3
   },
   "file_extension": ".py",
   "mimetype": "text/x-python",
   "name": "python",
   "nbconvert_exporter": "python",
   "pygments_lexer": "ipython3",
   "version": "3.8.8"
  }
 },
 "nbformat": 4,
 "nbformat_minor": 5
}
