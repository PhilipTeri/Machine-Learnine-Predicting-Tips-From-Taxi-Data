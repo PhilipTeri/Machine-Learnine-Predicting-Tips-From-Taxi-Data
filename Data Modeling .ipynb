{
 "cells": [
  {
   "cell_type": "code",
   "execution_count": null,
   "id": "d6b66916",
   "metadata": {},
   "outputs": [],
   "source": [
    "# Practice identifying which supervised and unsupervised learning techniques are best suited for your Capstone Project data.  \n",
    "\n",
    "# Utilize supervised and unsupervised learning techniques to build predictive models.\n",
    "\n",
    "# Understand how to identify the best model.\n",
    "\n",
    "# The student has applied two to three different modeling methods to their dataset \n",
    "# and evaluated the performance using the appropriate metrics for their modeling methods.\n",
    "\n",
    "# The submission shows that the student understands when to apply which types of models.\n",
    "\n",
    "# The submission identifies one of the models tested as the best model.\n"
   ]
  },
  {
   "cell_type": "code",
   "execution_count": 1,
   "id": "2f223f17",
   "metadata": {},
   "outputs": [],
   "source": [
    "#Hint: Try a number of different models: you will want to compare their outputs in the\n",
    "# model evaluation stage. For example, if you’re writing a classification model, you should\n",
    "# implement both an entropy model and a Gini impurity model. For hyperparameter tuning,\n",
    "# think of methods like cross-validation . \n",
    "\n",
    "\n",
    "#Hint: you may want to use standard model evaluation metrics such as accuracy, recall,\n",
    "#precision, and F1."
   ]
  },
  {
   "cell_type": "markdown",
   "id": "9f80437b",
   "metadata": {},
   "source": [
    "### Example\n",
    "\n",
    "https://github.com/debisree/Springboard-Data-Science-Career-Track/blob/master/Capstone_1_predicting_cab_booking_cancellation/predicting-cab-booking-cancellations-ML.ipynb\n",
    "\n",
    "\n",
    "### Instructions \n",
    "\n",
    "https://ddf46429.springboard.com/uploads/resources/1585590199_Capstone_Two_Step_5__Modeling_-_Google_Docs.pdf\n",
    "\n",
    "\n",
    "### Questions\n",
    "\n",
    "Review the following questions and apply them to your analysis:\n",
    "<br>● Does my data involve a time series or forecasting? If so, am I splitting the train\n",
    "and test data appropriately?\n",
    "<br>● Is my response variable continuous or categorical? "
   ]
  },
  {
   "cell_type": "code",
   "execution_count": null,
   "id": "d1d48084",
   "metadata": {},
   "outputs": [],
   "source": []
  }
 ],
 "metadata": {
  "kernelspec": {
   "display_name": "Python [conda env:root] *",
   "language": "python",
   "name": "conda-root-py"
  },
  "language_info": {
   "codemirror_mode": {
    "name": "ipython",
    "version": 3
   },
   "file_extension": ".py",
   "mimetype": "text/x-python",
   "name": "python",
   "nbconvert_exporter": "python",
   "pygments_lexer": "ipython3",
   "version": "3.8.8"
  }
 },
 "nbformat": 4,
 "nbformat_minor": 5
}
